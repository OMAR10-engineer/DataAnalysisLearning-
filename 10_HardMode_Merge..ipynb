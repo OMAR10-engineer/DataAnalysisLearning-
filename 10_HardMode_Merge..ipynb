{
 "cells": [
  {
   "cell_type": "code",
   "execution_count": 1,
   "id": "a3384ca2",
   "metadata": {},
   "outputs": [
    {
     "name": "stdout",
     "output_type": "stream",
     "text": [
      "    Name  Gender  Age   BP  Cholesterol\n",
      "0    Ali    Male   45  130          220\n",
      "1   Sara  Female   52  145          200\n",
      "2   Omar    Male   35  125          180\n",
      "3   Hany    Male   40  135          210\n",
      "4   Nour  Female   29  118          170\n",
      "5  Dalia  Female   55  150          230\n"
     ]
    }
   ],
   "source": [
    "import pandas as pd\n",
    "\n",
    "df = pd.read_csv('health_data_gender.csv')\n",
    "print(df)\n"
   ]
  },
  {
   "cell_type": "code",
   "execution_count": 2,
   "id": "6e5c9c53",
   "metadata": {},
   "outputs": [
    {
     "name": "stdout",
     "output_type": "stream",
     "text": [
      "                BP  Cholesterol\n",
      "Gender                         \n",
      "Female  137.666667   200.000000\n",
      "Male    130.000000   203.333333\n"
     ]
    }
   ],
   "source": [
    "grouped = df.groupby('Gender').agg({'BP': 'mean', 'Cholesterol': 'mean'})\n",
    "print(grouped)\n"
   ]
  },
  {
   "cell_type": "code",
   "execution_count": 3,
   "id": "d4574611",
   "metadata": {},
   "outputs": [
    {
     "name": "stdout",
     "output_type": "stream",
     "text": [
      "                BP  Cholesterol\n",
      "Gender                         \n",
      "Female  137.666667   200.000000\n",
      "Male    130.000000   203.333333\n"
     ]
    }
   ],
   "source": [
    "pivot = df.pivot_table(values=['BP', 'Cholesterol'], index='Gender', aggfunc='mean')\n",
    "print(pivot)\n"
   ]
  },
  {
   "cell_type": "code",
   "execution_count": 4,
   "id": "82d7eb9d",
   "metadata": {},
   "outputs": [
    {
     "name": "stdout",
     "output_type": "stream",
     "text": [
      "   ID  Name  Gender  Age Smoker\n",
      "0   1   Ali    Male   45      Y\n",
      "1   2  Sara  Female   52      N\n",
      "2   3  Omar    Male   35      Y\n",
      "3   4  Hany    Male   40      N\n",
      "4   5  Nour  Female   29      N\n",
      "   ID   VisitDate   BP  Cholesterol\n",
      "0   1  2024-07-01  130          220\n",
      "1   2  2024-07-01  145          200\n",
      "2   3  2024-07-02  125          180\n",
      "3   4  2024-07-02  135          210\n",
      "4   5  2024-07-03  118          170\n",
      "   ID   VisitDate  DrugName  Dose\n",
      "0   1  2024-07-01  Atenolol  50mg\n",
      "1   2  2024-07-01    Statin  20mg\n",
      "2   3  2024-07-02      None   0mg\n",
      "3   4  2024-07-02  Atenolol  25mg\n",
      "4   5  2024-07-03      None   0mg\n"
     ]
    }
   ],
   "source": [
    "import pandas as pd\n",
    "\n",
    "# Load\n",
    "patients = pd.read_csv('patients.csv')\n",
    "tests = pd.read_csv('tests.csv')\n",
    "meds = pd.read_csv('medications.csv')\n",
    "\n",
    "print(patients.head())\n",
    "print(tests.head())\n",
    "print(meds.head())\n"
   ]
  },
  {
   "cell_type": "code",
   "execution_count": 6,
   "id": "4ea7af99",
   "metadata": {},
   "outputs": [
    {
     "name": "stdout",
     "output_type": "stream",
     "text": [
      "   ID   VisitDate   BP  Cholesterol  DrugName  Dose   Name  Gender  Age Smoker\n",
      "0   1  2024-07-01  130          220  Atenolol  50mg    Ali    Male   45      Y\n",
      "1   2  2024-07-01  145          200    Statin  20mg   Sara  Female   52      N\n",
      "2   3  2024-07-02  125          180      None   0mg   Omar    Male   35      Y\n",
      "3   4  2024-07-02  135          210  Atenolol  25mg   Hany    Male   40      N\n",
      "4   5  2024-07-03  118          170      None   0mg   Nour  Female   29      N\n",
      "5   6  2024-07-03  150          230    Statin  40mg  Dalia  Female   55      Y\n"
     ]
    }
   ],
   "source": [
    "merged = pd.merge(tests, meds, on=['ID', 'VisitDate'])\n",
    "final = pd.merge(merged, patients, on='ID')\n",
    "\n",
    "print(final)\n"
   ]
  },
  {
   "cell_type": "code",
   "execution_count": 7,
   "id": "3cd3979c",
   "metadata": {},
   "outputs": [
    {
     "name": "stdout",
     "output_type": "stream",
     "text": [
      "                  BP  Cholesterol\n",
      "Gender Smoker                    \n",
      "Female N       131.5        185.0\n",
      "       Y       150.0        230.0\n",
      "Male   N       135.0        210.0\n",
      "       Y       127.5        200.0\n"
     ]
    }
   ],
   "source": [
    "# Avg BP by Gender + Smoker\n",
    "grouped = final.groupby(['Gender', 'Smoker']).agg({'BP':'mean', 'Cholesterol':'mean'})\n",
    "print(grouped)\n"
   ]
  },
  {
   "cell_type": "code",
   "execution_count": 8,
   "id": "dec8eb3f",
   "metadata": {},
   "outputs": [
    {
     "data": {
      "image/png": "[encoded data removed]",
      "text/plain": [
       "<Figure size 432x288 with 1 Axes>"
      ]
     },
     "metadata": {
      "needs_background": "light"
     },
     "output_type": "display_data"
    }
   ],
   "source": [
    "import seaborn as sns\n",
    "import matplotlib.pyplot as plt\n",
    "\n",
    "sns.scatterplot(data=final, x='BP', y='Cholesterol', hue='Smoker')\n",
    "plt.title('BP vs Cholesterol by Smoker')\n",
    "plt.savefig('Day10_BPvsCholesterol.png')\n",
    "plt.show()\n"
   ]
  },
  {
   "cell_type": "code",
   "execution_count": null,
   "id": "05c4d2f3",
   "metadata": {},
   "outputs": [],
   "source": []
  },
  {
   "cell_type": "code",
   "execution_count": null,
   "id": "c93d6959",
   "metadata": {},
   "outputs": [],
   "source": []
  }
 ],
 "metadata": {
  "kernelspec": {
   "display_name": "Python 3 (ipykernel)",
   "language": "python",
   "name": "python3"
  },
  "language_info": {
   "codemirror_mode": {
    "name": "ipython",
    "version": 3
   },
   "file_extension": ".py",
   "mimetype": "text/x-python",
   "name": "python",
   "nbconvert_exporter": "python",
   "pygments_lexer": "ipython3",
   "version": "3.9.12"
  }
 },
 "nbformat": 4,
 "nbformat_minor": 5
}
