{
 "cells": [
  {
   "cell_type": "code",
   "execution_count": 1,
   "id": "427922b3",
   "metadata": {},
   "outputs": [
    {
     "name": "stdout",
     "output_type": "stream",
     "text": [
      "    Gene stable ID Gene stable ID version  Gene name  \\\n",
      "0  ENSG00000290825      ENSG00000290825.2   DDX11L16   \n",
      "1  ENSG00000223972      ENSG00000223972.6    DDX11L1   \n",
      "2  ENSG00000310526      ENSG00000310526.1     WASH7P   \n",
      "3  ENSG00000227232      ENSG00000227232.6     WASH7P   \n",
      "4  ENSG00000278267      ENSG00000278267.1  MIR6859-1   \n",
      "\n",
      "                                    Gene description  Chromosome/scaffold name  \n",
      "0  DEAD/H-box helicase 11 like 16 (pseudogene) [S...                         1  \n",
      "1  DEAD/H-box helicase 11 like 1 (pseudogene) [So...                         1  \n",
      "2  WASP family homolog 7, pseudogene [Source:HGNC...                         1  \n",
      "3  WASP family homolog 7, pseudogene [Source:HGNC...                         1  \n",
      "4  microRNA 6859-1 [Source:HGNC Symbol;Acc:HGNC:5...                         1  \n",
      "<class 'pandas.core.frame.DataFrame'>\n",
      "RangeIndex: 7089 entries, 0 to 7088\n",
      "Data columns (total 5 columns):\n",
      " #   Column                    Non-Null Count  Dtype \n",
      "---  ------                    --------------  ----- \n",
      " 0   Gene stable ID            7089 non-null   object\n",
      " 1   Gene stable ID version    7089 non-null   object\n",
      " 2   Gene name                 4019 non-null   object\n",
      " 3   Gene description          7034 non-null   object\n",
      " 4   Chromosome/scaffold name  7089 non-null   int64 \n",
      "dtypes: int64(1), object(4)\n",
      "memory usage: 277.0+ KB\n",
      "None\n"
     ]
    }
   ],
   "source": [
    "import pandas as pd\n",
    "\n",
    "df = pd.read_csv('gene_info.tsv', sep='\\t')\n",
    "print(df.head())\n",
    "print(df.info())\n"
   ]
  },
  {
   "cell_type": "code",
   "execution_count": 6,
   "id": "fc399bac",
   "metadata": {},
   "outputs": [
    {
     "name": "stdout",
     "output_type": "stream",
     "text": [
      "    Gene stable ID Gene stable ID version  Gene name  \\\n",
      "0  ENSG00000290825      ENSG00000290825.2   DDX11L16   \n",
      "1  ENSG00000223972      ENSG00000223972.6    DDX11L1   \n",
      "2  ENSG00000310526      ENSG00000310526.1     WASH7P   \n",
      "3  ENSG00000227232      ENSG00000227232.6     WASH7P   \n",
      "4  ENSG00000278267      ENSG00000278267.1  MIR6859-1   \n",
      "\n",
      "                                    Gene description  Chromosome/scaffold name  \n",
      "0  DEAD/H-box helicase 11 like 16 (pseudogene) [S...                         1  \n",
      "1  DEAD/H-box helicase 11 like 1 (pseudogene) [So...                         1  \n",
      "2  WASP family homolog 7, pseudogene [Source:HGNC...                         1  \n",
      "3  WASP family homolog 7, pseudogene [Source:HGNC...                         1  \n",
      "4  microRNA 6859-1 [Source:HGNC Symbol;Acc:HGNC:5...                         1  \n"
     ]
    }
   ],
   "source": [
    "df['Gene name'] = df['Gene name'].str.strip()\n",
    "df['Gene description'] = df['Gene description'].str.strip()\n",
    "\n",
    "# Drop if Symbol or GeneID missing\n",
    "df_clean = df.dropna(subset=['Gene stable ID', 'Gene name'])\n",
    "print(df_clean.head())\n"
   ]
  },
  {
   "cell_type": "code",
   "execution_count": 7,
   "id": "4b41f297",
   "metadata": {},
   "outputs": [],
   "source": [
    "df_clean.to_csv('Task15_GeneInfo_Clean.csv', index=False)\n"
   ]
  },
  {
   "cell_type": "code",
   "execution_count": 9,
   "id": "e4e5ae86",
   "metadata": {},
   "outputs": [
    {
     "name": "stdout",
     "output_type": "stream",
     "text": [
      "Empty DataFrame\n",
      "Columns: [Gene stable ID, Gene stable ID version, Gene name, Gene description, Chromosome/scaffold name]\n",
      "Index: []\n"
     ]
    }
   ],
   "source": [
    "dupes = df_clean[df_clean.duplicated(subset=['Gene stable ID'])]\n",
    "print(dupes)\n",
    "\n",
    "# Remove duplicates keeping first\n",
    "df_clean = df_clean.drop_duplicates(subset=['Gene stable ID'])\n"
   ]
  },
  {
   "cell_type": "code",
   "execution_count": 11,
   "id": "63a35162",
   "metadata": {},
   "outputs": [
    {
     "name": "stdout",
     "output_type": "stream",
     "text": [
      "Unique chromosomes: [1]\n",
      "Number of genes: 4019\n"
     ]
    }
   ],
   "source": [
    "print('Unique chromosomes:', df_clean['Chromosome/scaffold name'].unique())\n",
    "print('Number of genes:', df_clean.shape[0])\n"
   ]
  },
  {
   "cell_type": "code",
   "execution_count": 12,
   "id": "a6a84f14",
   "metadata": {},
   "outputs": [],
   "source": [
    "df_clean.to_csv('Task15_GeneInfo_Clean.csv', index=False)\n"
   ]
  },
  {
   "cell_type": "code",
   "execution_count": null,
   "id": "7ad50d1c",
   "metadata": {},
   "outputs": [],
   "source": []
  }
 ],
 "metadata": {
  "kernelspec": {
   "display_name": "Python 3 (ipykernel)",
   "language": "python",
   "name": "python3"
  },
  "language_info": {
   "codemirror_mode": {
    "name": "ipython",
    "version": 3
   },
   "file_extension": ".py",
   "mimetype": "text/x-python",
   "name": "python",
   "nbconvert_exporter": "python",
   "pygments_lexer": "ipython3",
   "version": "3.9.12"
  }
 },
 "nbformat": 4,
 "nbformat_minor": 5
}
